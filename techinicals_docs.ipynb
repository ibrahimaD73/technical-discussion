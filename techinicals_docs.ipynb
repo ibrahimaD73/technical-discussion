{
  "nbformat": 4,
  "nbformat_minor": 0,
  "metadata": {
    "colab": {
      "provenance": [],
      "authorship_tag": "ABX9TyMfi4rku2ZJFObuC/mB1wAd",
      "include_colab_link": true
    },
    "kernelspec": {
      "name": "python3",
      "display_name": "Python 3"
    },
    "language_info": {
      "name": "python"
    }
  },
  "cells": [
    {
      "cell_type": "markdown",
      "metadata": {
        "id": "view-in-github",
        "colab_type": "text"
      },
      "source": [
        "<a href=\"https://colab.research.google.com/github/ibrahimaD73/technical-discussion/blob/main/techinicals_docs.ipynb\" target=\"_parent\"><img src=\"https://colab.research.google.com/assets/colab-badge.svg\" alt=\"Open In Colab\"/></a>"
      ]
    },
    {
      "cell_type": "markdown",
      "source": [
        "## Ingest"
      ],
      "metadata": {
        "id": "bLErsL8ZJGg1"
      }
    },
    {
      "cell_type": "code",
      "execution_count": 4,
      "metadata": {
        "id": "NF4HaDEVIUt7"
      },
      "outputs": [],
      "source": [
        "def hello():\n",
        "  return \"hello world !\"\n",
        ""
      ]
    },
    {
      "cell_type": "code",
      "source": [
        " hello()"
      ],
      "metadata": {
        "colab": {
          "base_uri": "https://localhost:8080/",
          "height": 36
        },
        "id": "waUhSavZIvog",
        "outputId": "7b8c77d6-41c6-4fe4-b83e-a430e39e6541"
      },
      "execution_count": 5,
      "outputs": [
        {
          "output_type": "execute_result",
          "data": {
            "text/plain": [
              "'hello world !'"
            ],
            "application/vnd.google.colaboratory.intrinsic+json": {
              "type": "string"
            }
          },
          "metadata": {},
          "execution_count": 5
        }
      ]
    },
    {
      "cell_type": "markdown",
      "source": [
        "## EDA"
      ],
      "metadata": {
        "id": "pooaN161JCxX"
      }
    },
    {
      "cell_type": "code",
      "source": [],
      "metadata": {
        "id": "yQh1gGQpJAlC"
      },
      "execution_count": null,
      "outputs": []
    },
    {
      "cell_type": "markdown",
      "source": [
        "### this is a markdpwn heading\n",
        "* one\n",
        "* two"
      ],
      "metadata": {
        "id": "g547dKwzJcuF"
      }
    },
    {
      "cell_type": "markdown",
      "source": [
        "## Modeling"
      ],
      "metadata": {
        "id": "Dd12PJ0eJLfF"
      }
    },
    {
      "cell_type": "code",
      "source": [],
      "metadata": {
        "id": "j33KHJJUJQGS"
      },
      "execution_count": null,
      "outputs": []
    },
    {
      "cell_type": "markdown",
      "source": [
        "## Conclusion"
      ],
      "metadata": {
        "id": "EWkO6vw9JOkg"
      }
    }
  ]
}